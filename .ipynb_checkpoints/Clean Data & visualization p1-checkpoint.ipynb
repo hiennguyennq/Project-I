{
 "cells": [
  {
   "cell_type": "code",
   "execution_count": 4,
   "metadata": {
    "executionInfo": {
     "elapsed": 405,
     "status": "ok",
     "timestamp": 1641660611262,
     "user": {
      "displayName": "Sáng Nguyễn",
      "photoUrl": "https://lh3.googleusercontent.com/a-/AOh14GheroNphT2ZGYjT1zabqpKJ0HA3T0gj8b-GGiatqA=s64",
      "userId": "18237219865971432397"
     },
     "user_tz": -420
    },
    "id": "U1r0KFA-arPW"
   },
   "outputs": [],
   "source": [
    "import numpy as np\n",
    "import pandas as pd\n",
    "import seaborn as sns\n",
    "import os\n",
    "from matplotlib import pyplot as plt\n",
    "%matplotlib inline\n",
    "import matplotlib"
   ]
  },
  {
   "cell_type": "code",
   "execution_count": 23,
   "metadata": {
    "executionInfo": {
     "elapsed": 1501,
     "status": "ok",
     "timestamp": 1641660616849,
     "user": {
      "displayName": "Sáng Nguyễn",
      "photoUrl": "https://lh3.googleusercontent.com/a-/AOh14GheroNphT2ZGYjT1zabqpKJ0HA3T0gj8b-GGiatqA=s64",
      "userId": "18237219865971432397"
     },
     "user_tz": -420
    },
    "id": "qUXVeYN3aylk"
   },
   "outputs": [],
   "source": [
    "df=pd.read_csv('dataset.csv')"
   ]
  },
  {
   "cell_type": "code",
   "execution_count": 24,
   "metadata": {
    "executionInfo": {
     "elapsed": 413,
     "status": "ok",
     "timestamp": 1641660618995,
     "user": {
      "displayName": "Sáng Nguyễn",
      "photoUrl": "https://lh3.googleusercontent.com/a-/AOh14GheroNphT2ZGYjT1zabqpKJ0HA3T0gj8b-GGiatqA=s64",
      "userId": "18237219865971432397"
     },
     "user_tz": -420
    },
    "id": "lxHeqWMHa6oI"
   },
   "outputs": [],
   "source": [
    "#Loại bỏ các trường không dùng và các giá trị bị NaN quá nhiều\n",
    "df.dropna(subset=[\"Giá/m2\",\"Kinh độ\",\"Loại hình nhà ở\",\"Chiều ngang\",\"Chiều dọc\",\"Mật độ dân số\"], inplace=True)\n",
    "df=df.drop(labels=[\"Giấy tờ pháp lý\",\"Đặc điểm nhà đất\",\"Quận huyện\",\"Tỉnh thành\",\"Tình trạng nội thất\",\"Hướng cửa chính\",\"Unnamed: 0\",\"Số tầng\",\"Diện tích sử dụng\",\"Unnamed: 0.1\"], axis=1, inplace=False)\n",
    "\n",
    "#Định dạng chuẩn dữ liệu cho chiều ngang, chiều rộng, Giá/m^2\n",
    "df['Chiều ngang'] =df['Chiều ngang'].map(lambda x: x.lstrip('').rstrip('m'))\n",
    "df['Chiều dọc'] =df['Chiều dọc'].map(lambda x: x.lstrip('').rstrip('m'))\n",
    "df[\"Giá/m2\"]=df[\"Giá/m2\"].str.replace(',','.')\n",
    "\n",
    "#Định dạng chuẩn dữ liệu cho loại hình nhà ở\n",
    "df['Loại hình nhà ở'] = df['Loại hình nhà ở'].replace(to_replace=[\"Nhà ngõ\"], value = 1)\n",
    "df['Loại hình nhà ở'] = df['Loại hình nhà ở'].replace(to_replace=[\"Nhà phố liền kề\"], value = 1.2)\n",
    "df['Loại hình nhà ở'] = df['Loại hình nhà ở'].replace(to_replace=[\"Nhà mặt phố\"], value = 1.6)\n",
    "df['Loại hình nhà ở'] = df['Loại hình nhà ở'].replace(to_replace=[\"Nhà biệt thự\"], value = 3)\n",
    "\n",
    "\n",
    "\n",
    "#Chuyển đổi kiểu dữ liệu là numeric\n",
    "df['Số phòng ngủ']=pd.to_numeric(df['Số phòng ngủ'], errors='coerce')\n",
    "df['Số phòng vệ sinh']=pd.to_numeric(df['Số phòng vệ sinh'], errors='coerce')\n",
    "df['Giá/m2']=pd.to_numeric(df['Giá/m2'], errors='coerce')\n",
    "df['Loại hình nhà ở']=pd.to_numeric(df['Loại hình nhà ở'], errors='coerce')\n",
    "df['Diện tích đất']=pd.to_numeric(df['Diện tích đất'], errors='coerce')\n",
    "df['Chiều ngang']=pd.to_numeric(df['Chiều ngang'], errors='coerce')\n",
    "df['Chiều dọc']=pd.to_numeric(df['Chiều dọc'], errors='coerce')\n",
    "df['Kinh độ']=pd.to_numeric(df['Kinh độ'], errors='coerce')\n",
    "df['Vĩ độ']=pd.to_numeric(df['Vĩ độ'], errors='coerce')\n",
    "df.dropna(subset=[\"Giá/m2\"], inplace=True)\n",
    "\n",
    "#Thay thế NaN ở phòng ngủ, phòng vệ sinh bằng mode\n",
    "mean_bed=mode_bed=float(df['Số phòng ngủ'].mean())\n",
    "mean_bath=mode_bed=float(df['Số phòng vệ sinh'].mean())\n",
    "df['Số phòng ngủ'] = df['Số phòng ngủ'].replace(to_replace=[\"Nhiều\",np.nan,\"nhiều\"], value = mean_bed)\n",
    "df['Số phòng vệ sinh'] = df['Số phòng vệ sinh'].replace(to_replace=[\"Nhiều\",np.nan,\"nhiều\"], value = mean_bath)"
   ]
  },
  {
   "cell_type": "code",
   "execution_count": 25,
   "metadata": {
    "executionInfo": {
     "elapsed": 645,
     "status": "ok",
     "timestamp": 1641660633052,
     "user": {
      "displayName": "Sáng Nguyễn",
      "photoUrl": "https://lh3.googleusercontent.com/a-/AOh14GheroNphT2ZGYjT1zabqpKJ0HA3T0gj8b-GGiatqA=s64",
      "userId": "18237219865971432397"
     },
     "user_tz": -420
    },
    "id": "XrGg1OA1bX_O"
   },
   "outputs": [],
   "source": [
    "#Loại bỏ các outlier của dữ liệu\n",
    "df.drop(df[(df['Số phòng ngủ'] > 3) & (df['Số phòng ngủ'] < 4)].index, inplace = True)\n",
    "df.drop(df[(df['Số phòng vệ sinh'] > 2) & (df['Số phòng vệ sinh'] < 3)].index, inplace = True)\n",
    "df.drop(df[df['Diện tích đất'] >550].index, inplace = True)\n",
    "df.drop(df[df['Số phòng ngủ'] >10].index, inplace = True)\n",
    "df.drop(df[df['Diện tích đất'] < 10].index, inplace = True)\n",
    "df.drop(df[df['Giá/m2'] >250].index, inplace = True)\n",
    "df.drop(df[df['Giá/m2'] < 5].index, inplace = True)\n",
    "df.drop(df[df['Chiều ngang'] < 1.5].index, inplace = True)\n",
    "df.drop(df[df['Chiều dọc'] < 1.5].index, inplace = True)\n",
    "df.drop(df[df['Chiều dọc'] > 300].index, inplace = True)\n",
    "df.drop(df[df['Chiều ngang'] > 300].index, inplace = True)\n",
    "df.drop(df[df['Kinh độ'] < 102.15].index, inplace = True)\n",
    "df.drop(df[df['Kinh độ'] > 109.4].index, inplace = True)\n",
    "df.drop(df[df['Vĩ độ'] < 8.566666667].index, inplace = True)\n",
    "df.drop(df[df['Vĩ độ'] > 23.38333333].index, inplace = True)\n",
    "\n",
    "#Chuyển đổi Giá/m^2 về Giá và xóa trường Giá/m^2\n",
    "df[\"Giá\"] = df[\"Diện tích đất\"] * df[\"Giá/m2\"] \n",
    "df=df.drop(labels=[\"Giá/m2\"], axis=1, inplace=False)\n",
    "\n",
    "\n",
    "#Xuất dữ liệu ra file csv\n",
    "df.to_csv('data_clean.csv', index = False)"
   ]
  },
  {
   "cell_type": "code",
   "execution_count": 8,
   "metadata": {
    "scrolled": true
   },
   "outputs": [
    {
     "name": "stdout",
     "output_type": "stream",
     "text": [
      "<class 'pandas.core.frame.DataFrame'>\n",
      "Int64Index: 79026 entries, 2 to 129834\n",
      "Data columns (total 20 columns):\n",
      " #   Column               Non-Null Count  Dtype  \n",
      "---  ------               --------------  -----  \n",
      " 0   Unnamed: 0           79026 non-null  int64  \n",
      " 1   Unnamed: 0.1         79026 non-null  int64  \n",
      " 2   Diện tích đất        79026 non-null  float64\n",
      " 3   Quận huyện           79026 non-null  object \n",
      " 4   Tỉnh thành           79026 non-null  object \n",
      " 5   Số phòng ngủ         79026 non-null  float64\n",
      " 6   Số phòng vệ sinh     79026 non-null  float64\n",
      " 7   Số tầng              40492 non-null  object \n",
      " 8   Giấy tờ pháp lý      70803 non-null  object \n",
      " 9   Chiều ngang          79026 non-null  float64\n",
      " 10  Chiều dọc            79026 non-null  float64\n",
      " 11  Diện tích sử dụng    66624 non-null  float64\n",
      " 12  Kinh độ              79026 non-null  float64\n",
      " 13  Vĩ độ                79026 non-null  float64\n",
      " 14  Tình trạng nội thất  38873 non-null  object \n",
      " 15  Loại hình nhà ở      79026 non-null  float64\n",
      " 16  Đặc điểm nhà đất     31801 non-null  object \n",
      " 17  Hướng cửa chính      33726 non-null  object \n",
      " 18  Mật độ dân số        79026 non-null  float64\n",
      " 19  Giá                  79026 non-null  float64\n",
      "dtypes: float64(11), int64(2), object(7)\n",
      "memory usage: 14.7+ MB\n"
     ]
    }
   ],
   "source": [
    "df.info()"
   ]
  },
  {
   "cell_type": "code",
   "execution_count": 38,
   "metadata": {},
   "outputs": [
    {
     "data": {
      "text/html": [
       "<div>\n",
       "<style scoped>\n",
       "    .dataframe tbody tr th:only-of-type {\n",
       "        vertical-align: middle;\n",
       "    }\n",
       "\n",
       "    .dataframe tbody tr th {\n",
       "        vertical-align: top;\n",
       "    }\n",
       "\n",
       "    .dataframe thead th {\n",
       "        text-align: right;\n",
       "    }\n",
       "</style>\n",
       "<table border=\"1\" class=\"dataframe\">\n",
       "  <thead>\n",
       "    <tr style=\"text-align: right;\">\n",
       "      <th></th>\n",
       "      <th>Unnamed: 0</th>\n",
       "      <th>Unnamed: 0.1</th>\n",
       "      <th>Diện tích đất</th>\n",
       "      <th>Giá/m2</th>\n",
       "      <th>Quận huyện</th>\n",
       "      <th>Tỉnh thành</th>\n",
       "      <th>Số phòng ngủ</th>\n",
       "      <th>Số phòng vệ sinh</th>\n",
       "      <th>Số tầng</th>\n",
       "      <th>Giấy tờ pháp lý</th>\n",
       "      <th>Chiều ngang</th>\n",
       "      <th>Chiều dọc</th>\n",
       "      <th>Diện tích sử dụng</th>\n",
       "      <th>Kinh độ</th>\n",
       "      <th>Vĩ độ</th>\n",
       "      <th>Tình trạng nội thất</th>\n",
       "      <th>Loại hình nhà ở</th>\n",
       "      <th>Đặc điểm nhà đất</th>\n",
       "      <th>Hướng cửa chính</th>\n",
       "      <th>Mật độ dân số</th>\n",
       "    </tr>\n",
       "  </thead>\n",
       "  <tbody>\n",
       "    <tr>\n",
       "      <th>0</th>\n",
       "      <td>0</td>\n",
       "      <td>0</td>\n",
       "      <td>75.0</td>\n",
       "      <td>72</td>\n",
       "      <td>Quận Liên Chiểu</td>\n",
       "      <td>Đà Nẵng</td>\n",
       "      <td>3</td>\n",
       "      <td>4</td>\n",
       "      <td>NaN</td>\n",
       "      <td>Đã có sổ</td>\n",
       "      <td>NaN</td>\n",
       "      <td>NaN</td>\n",
       "      <td>NaN</td>\n",
       "      <td>108.16904</td>\n",
       "      <td>16.07240</td>\n",
       "      <td>Nội thất cao cấp</td>\n",
       "      <td>Nhà mặt phố</td>\n",
       "      <td>NaN</td>\n",
       "      <td>Tây Bắc</td>\n",
       "      <td>2616.0</td>\n",
       "    </tr>\n",
       "    <tr>\n",
       "      <th>1</th>\n",
       "      <td>1</td>\n",
       "      <td>1</td>\n",
       "      <td>400.0</td>\n",
       "      <td>62,5</td>\n",
       "      <td>Quận 8</td>\n",
       "      <td>Tp Hồ Chí Minh</td>\n",
       "      <td>10</td>\n",
       "      <td>Nhiều</td>\n",
       "      <td>NaN</td>\n",
       "      <td>Đã có sổ</td>\n",
       "      <td>16 m</td>\n",
       "      <td>25 m</td>\n",
       "      <td>NaN</td>\n",
       "      <td>106.62309</td>\n",
       "      <td>10.71289</td>\n",
       "      <td>NaN</td>\n",
       "      <td>Nhà mặt phố</td>\n",
       "      <td>Hẻm xe hơi</td>\n",
       "      <td>NaN</td>\n",
       "      <td>22118.0</td>\n",
       "    </tr>\n",
       "    <tr>\n",
       "      <th>2</th>\n",
       "      <td>2</td>\n",
       "      <td>2</td>\n",
       "      <td>10.0</td>\n",
       "      <td>96</td>\n",
       "      <td>Quận 11</td>\n",
       "      <td>Tp Hồ Chí Minh</td>\n",
       "      <td>2</td>\n",
       "      <td>2</td>\n",
       "      <td>2</td>\n",
       "      <td>Đã có sổ</td>\n",
       "      <td>4 m</td>\n",
       "      <td>3 m</td>\n",
       "      <td>11.0</td>\n",
       "      <td>106.65273</td>\n",
       "      <td>10.76385</td>\n",
       "      <td>NaN</td>\n",
       "      <td>Nhà ngõ</td>\n",
       "      <td>NaN</td>\n",
       "      <td>NaN</td>\n",
       "      <td>18523.0</td>\n",
       "    </tr>\n",
       "    <tr>\n",
       "      <th>3</th>\n",
       "      <td>3</td>\n",
       "      <td>3</td>\n",
       "      <td>56.0</td>\n",
       "      <td>67,86</td>\n",
       "      <td>Quận Bình Tân</td>\n",
       "      <td>Tp Hồ Chí Minh</td>\n",
       "      <td>4</td>\n",
       "      <td>4</td>\n",
       "      <td>NaN</td>\n",
       "      <td>Đã có sổ</td>\n",
       "      <td>4 m</td>\n",
       "      <td>14 m</td>\n",
       "      <td>NaN</td>\n",
       "      <td>106.58543</td>\n",
       "      <td>10.79849</td>\n",
       "      <td>NaN</td>\n",
       "      <td>Nhà ngõ</td>\n",
       "      <td>Hẻm xe hơi</td>\n",
       "      <td>NaN</td>\n",
       "      <td>15109.0</td>\n",
       "    </tr>\n",
       "    <tr>\n",
       "      <th>4</th>\n",
       "      <td>4</td>\n",
       "      <td>4</td>\n",
       "      <td>85.0</td>\n",
       "      <td>9,41</td>\n",
       "      <td>Quận Ô Môn</td>\n",
       "      <td>Cần Thơ</td>\n",
       "      <td>2</td>\n",
       "      <td>1</td>\n",
       "      <td>NaN</td>\n",
       "      <td>Đã có sổ</td>\n",
       "      <td>5 m</td>\n",
       "      <td>17 m</td>\n",
       "      <td>65.0</td>\n",
       "      <td>105.55076</td>\n",
       "      <td>10.18150</td>\n",
       "      <td>NaN</td>\n",
       "      <td>Nhà ngõ</td>\n",
       "      <td>Hẻm xe hơi</td>\n",
       "      <td>NaN</td>\n",
       "      <td>976.0</td>\n",
       "    </tr>\n",
       "  </tbody>\n",
       "</table>\n",
       "</div>"
      ],
      "text/plain": [
       "   Unnamed: 0  Unnamed: 0.1  Diện tích đất Giá/m2       Quận huyện  \\\n",
       "0           0             0           75.0     72  Quận Liên Chiểu   \n",
       "1           1             1          400.0   62,5           Quận 8   \n",
       "2           2             2           10.0     96          Quận 11   \n",
       "3           3             3           56.0  67,86    Quận Bình Tân   \n",
       "4           4             4           85.0   9,41       Quận Ô Môn   \n",
       "\n",
       "       Tỉnh thành Số phòng ngủ Số phòng vệ sinh Số tầng Giấy tờ pháp lý  \\\n",
       "0         Đà Nẵng            3                4     NaN        Đã có sổ   \n",
       "1  Tp Hồ Chí Minh           10            Nhiều     NaN        Đã có sổ   \n",
       "2  Tp Hồ Chí Minh            2                2       2        Đã có sổ   \n",
       "3  Tp Hồ Chí Minh            4                4     NaN        Đã có sổ   \n",
       "4         Cần Thơ            2                1     NaN        Đã có sổ   \n",
       "\n",
       "  Chiều ngang Chiều dọc  Diện tích sử dụng    Kinh độ     Vĩ độ  \\\n",
       "0         NaN       NaN                NaN  108.16904  16.07240   \n",
       "1        16 m      25 m                NaN  106.62309  10.71289   \n",
       "2         4 m       3 m               11.0  106.65273  10.76385   \n",
       "3         4 m      14 m                NaN  106.58543  10.79849   \n",
       "4         5 m      17 m               65.0  105.55076  10.18150   \n",
       "\n",
       "  Tình trạng nội thất Loại hình nhà ở Đặc điểm nhà đất Hướng cửa chính  \\\n",
       "0    Nội thất cao cấp     Nhà mặt phố              NaN         Tây Bắc   \n",
       "1                 NaN     Nhà mặt phố       Hẻm xe hơi             NaN   \n",
       "2                 NaN         Nhà ngõ              NaN             NaN   \n",
       "3                 NaN         Nhà ngõ       Hẻm xe hơi             NaN   \n",
       "4                 NaN         Nhà ngõ       Hẻm xe hơi             NaN   \n",
       "\n",
       "   Mật độ dân số  \n",
       "0         2616.0  \n",
       "1        22118.0  \n",
       "2        18523.0  \n",
       "3        15109.0  \n",
       "4          976.0  "
      ]
     },
     "execution_count": 38,
     "metadata": {},
     "output_type": "execute_result"
    }
   ],
   "source": [
    "df.head()"
   ]
  },
  {
   "cell_type": "code",
   "execution_count": 9,
   "metadata": {},
   "outputs": [
    {
     "data": {
      "image/png": "[encoded data removed]",
      "text/plain": [
       "<Figure size 432x288 with 1 Axes>"
      ]
     },
     "metadata": {
      "needs_background": "light"
     },
     "output_type": "display_data"
    }
   ],
   "source": [
    "sort_city = df.groupby('Tỉnh thành').count()['Unnamed: 0'].sort_values(ascending=False)[:10]\n",
    "\n",
    "cities = []\n",
    "for a, b in sort_city.items():\n",
    "    cities.append(a)\n",
    "\n",
    "plt.barh(y=cities, width=sort_city);"
   ]
  },
  {
   "cell_type": "code",
   "execution_count": 32,
   "metadata": {},
   "outputs": [
    {
     "data": {
      "image/png": "[encoded data removed]",
      "text/plain": [
       "<Figure size 432x288 with 1 Axes>"
      ]
     },
     "metadata": {
      "needs_background": "light"
     },
     "output_type": "display_data"
    }
   ],
   "source": [
    "Loaihinh = df.groupby('Loại hình nhà ở').count()['Unnamed: 0']\n",
    "\n",
    "Loaihinhnhao = []\n",
    "for a, b in Loaihinh.items():\n",
    "    Loaihinhnhao.append(a)\n",
    "\n",
    "plt.bar(x=Loaihinhnhao, height=Loaihinh, color=['gold', 'indigo', 'crimson', 'blue', 'sienna', 'slategrey']);"
   ]
  },
  {
   "cell_type": "code",
   "execution_count": 11,
   "metadata": {},
   "outputs": [
    {
     "data": {
      "image/png": "[encoded data removed]",
      "text/plain": [
       "<Figure size 432x288 with 1 Axes>"
      ]
     },
     "metadata": {
      "needs_background": "light"
     },
     "output_type": "display_data"
    }
   ],
   "source": [
    "Huong = df.groupby('Hướng cửa chính').count()['Unnamed: 0']\n",
    "\n",
    "Loaihinhnhao = []\n",
    "for a, b in Huong.items():\n",
    "    Loaihinhnhao.append(a)\n",
    "\n",
    "plt.bar(x=Loaihinhnhao, height=Huong, color=['gold', 'indigo', 'crimson', 'blue', 'sienna', 'slategrey']);"
   ]
  },
  {
   "cell_type": "code",
   "execution_count": 21,
   "metadata": {},
   "outputs": [
    {
     "data": {
      "image/png": "[encoded data removed]",
      "text/plain": [
       "<Figure size 432x288 with 1 Axes>"
      ]
     },
     "metadata": {
      "needs_background": "light"
     },
     "output_type": "display_data"
    }
   ],
   "source": [
    "sns.boxplot(data=df, x='Giấy tờ pháp lý', y='Giá/m2');"
   ]
  },
  {
   "cell_type": "code",
   "execution_count": 22,
   "metadata": {},
   "outputs": [
    {
     "data": {
      "image/png": "[encoded data removed]",
      "text/plain": [
       "<Figure size 432x288 with 1 Axes>"
      ]
     },
     "metadata": {
      "needs_background": "light"
     },
     "output_type": "display_data"
    }
   ],
   "source": [
    "sns.boxplot(data=df, x=\"Loại hình nhà ở\", y='Giá/m2',fliersize=2);"
   ]
  },
  {
   "cell_type": "code",
   "execution_count": null,
   "metadata": {},
   "outputs": [],
   "source": []
  }
 ],
 "metadata": {
  "colab": {
   "authorship_tag": "ABX9TyOOfAnW1Kloz7KljrGwPG3/",
   "collapsed_sections": [],
   "name": "Clean_Data.ipynb",
   "provenance": []
  },
  "kernelspec": {
   "display_name": "Python 3",
   "language": "python",
   "name": "python3"
  },
  "language_info": {
   "codemirror_mode": {
    "name": "ipython",
    "version": 3
   },
   "file_extension": ".py",
   "mimetype": "text/x-python",
   "name": "python",
   "nbconvert_exporter": "python",
   "pygments_lexer": "ipython3",
   "version": "3.8.8"
  }
 },
 "nbformat": 4,
 "nbformat_minor": 1
}
